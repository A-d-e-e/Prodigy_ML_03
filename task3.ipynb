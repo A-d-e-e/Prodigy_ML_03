{
 "cells": [
  {
   "cell_type": "code",
   "execution_count": 66,
   "id": "3d26e7f5-6cb7-45b4-abab-c60fc50da50d",
   "metadata": {},
   "outputs": [],
   "source": [
    "import pandas as pd\n",
    "import numpy as np\n",
    "import tensorflow as tf\n",
    "import zipfile\n",
    "\n",
    "import warnings\n",
    "warnings.filterwarnings('ignore')"
   ]
  },
  {
   "cell_type": "code",
   "execution_count": 67,
   "id": "6744ef62-1a70-41a2-a2fb-98555c5a066d",
   "metadata": {},
   "outputs": [],
   "source": [
    "from tensorflow.compat.v1 import ConfigProto\n",
    "from tensorflow.compat.v1 import InteractiveSession\n",
    "\n",
    "config = ConfigProto()\n",
    "config.gpu_options.per_process_gpu_memory_fraction = 0.6\n",
    "config.gpu_options.allow_growth = True\n",
    "session = InteractiveSession(config=config)"
   ]
  },
  {
   "cell_type": "code",
   "execution_count": 69,
   "id": "03f4e7ef-c18a-4386-9870-ac77945cb09c",
   "metadata": {},
   "outputs": [],
   "source": [
    "with zipfile.ZipFile(\"train.zip\", \"r\") as zip_ref:\n",
    "    zip_ref.extractall(\"train\")\n",
    "\n",
    "# Unzip test.zip\n",
    "with zipfile.ZipFile(\"test1.zip\", \"r\") as zip_ref:\n",
    "    zip_ref.extractall(\"test\")"
   ]
  },
  {
   "cell_type": "code",
   "execution_count": 71,
   "id": "f11310c6-e5fb-4271-bbab-15603baf5176",
   "metadata": {},
   "outputs": [
    {
     "name": "stdout",
     "output_type": "stream",
     "text": [
      "Found 25000 images belonging to 1 classes.\n",
      "Found 12500 images belonging to 1 classes.\n"
     ]
    }
   ],
   "source": [
    "from tensorflow.keras.preprocessing.image import ImageDataGenerator\n",
    "\n",
    "datagen = ImageDataGenerator(rescale=1./255, shear_range=0.2, zoom_range=0.2, horizontal_flip=True)\n",
    "\n",
    "# For training set\n",
    "training_set = datagen.flow_from_directory(\n",
    "    \"train\",\n",
    "    target_size=(64, 64),\n",
    "    batch_size=32,\n",
    "    class_mode=\"binary\"\n",
    ")\n",
    "\n",
    "# For test set\n",
    "test_set = datagen.flow_from_directory(\n",
    "    \"test\",\n",
    "    target_size=(64, 64),\n",
    "    batch_size=32,\n",
    "    class_mode=None,  # Since it's a test set, no labels are needed\n",
    "    shuffle=False  # To maintain the order of the files\n",
    ")"
   ]
  },
  {
   "cell_type": "code",
   "execution_count": 73,
   "id": "ab4347b2-b325-49e6-a447-66d4c54ae8fa",
   "metadata": {},
   "outputs": [],
   "source": [
    "from tensorflow.keras.layers import Conv2D\n",
    "from tensorflow.keras.layers import Dense"
   ]
  },
  {
   "cell_type": "code",
   "execution_count": 74,
   "id": "97a8c118-0cd0-4c65-b850-8933f8b6f463",
   "metadata": {},
   "outputs": [],
   "source": [
    "from tensorflow.keras.regularizers import l2"
   ]
  },
  {
   "cell_type": "code",
   "execution_count": 75,
   "id": "83e0496b-b875-4494-ba59-a44b5bd23116",
   "metadata": {},
   "outputs": [
    {
     "name": "stdout",
     "output_type": "stream",
     "text": [
      "WARNING:tensorflow:From C:\\Users\\hp\\anaconda3\\envs\\Prodigy\\lib\\site-packages\\keras\\src\\backend.py:873: The name tf.get_default_graph is deprecated. Please use tf.compat.v1.get_default_graph instead.\n",
      "\n"
     ]
    }
   ],
   "source": [
    "cnn = tf.keras.models.Sequential()"
   ]
  },
  {
   "cell_type": "code",
   "execution_count": 76,
   "id": "b67dbc7e-a7a4-4ce9-b78b-9190ffb28a93",
   "metadata": {},
   "outputs": [],
   "source": [
    "cnn.add(tf.keras.layers.Conv2D(filters=32,padding=\"same\",kernel_size=3, activation='relu', strides=2, input_shape=[64, 64, 3]))"
   ]
  },
  {
   "cell_type": "code",
   "execution_count": 77,
   "id": "1e25daed-8cfe-44f4-bfc8-72edacdcb3b8",
   "metadata": {},
   "outputs": [
    {
     "name": "stdout",
     "output_type": "stream",
     "text": [
      "WARNING:tensorflow:From C:\\Users\\hp\\anaconda3\\envs\\Prodigy\\lib\\site-packages\\keras\\src\\layers\\pooling\\max_pooling2d.py:161: The name tf.nn.max_pool is deprecated. Please use tf.nn.max_pool2d instead.\n",
      "\n"
     ]
    }
   ],
   "source": [
    "cnn.add(tf.keras.layers.MaxPool2D(pool_size=2, strides=2))"
   ]
  },
  {
   "cell_type": "code",
   "execution_count": 78,
   "id": "95aed3d0-3550-40a1-ad23-42a9da8f49e2",
   "metadata": {},
   "outputs": [],
   "source": [
    "cnn.add(tf.keras.layers.Conv2D(filters=32,padding='same',kernel_size=3, activation='relu'))\n",
    "cnn.add(tf.keras.layers.MaxPool2D(pool_size=2, strides=2))"
   ]
  },
  {
   "cell_type": "code",
   "execution_count": 79,
   "id": "e6c6cd1e-4eef-486d-8906-2152b3a37072",
   "metadata": {},
   "outputs": [],
   "source": [
    "cnn.add(tf.keras.layers.Flatten())"
   ]
  },
  {
   "cell_type": "code",
   "execution_count": 80,
   "id": "30ef4036-1370-428f-9d1d-fdd216a3ed2d",
   "metadata": {},
   "outputs": [],
   "source": [
    "cnn.add(tf.keras.layers.Dense(units=128, activation='relu'))"
   ]
  },
  {
   "cell_type": "code",
   "execution_count": 81,
   "id": "19c80000-bc9b-4f14-acb0-0d5d65a31618",
   "metadata": {},
   "outputs": [],
   "source": [
    "cnn.add(Dense(1, kernel_regularizer=tf.keras.regularizers.l2(0.01),activation\n",
    "             ='linear'))"
   ]
  },
  {
   "cell_type": "code",
   "execution_count": 82,
   "id": "d79cad42-e349-4870-9f59-6d3dc310a394",
   "metadata": {},
   "outputs": [
    {
     "name": "stdout",
     "output_type": "stream",
     "text": [
      "Model: \"sequential\"\n",
      "_________________________________________________________________\n",
      " Layer (type)                Output Shape              Param #   \n",
      "=================================================================\n",
      " conv2d (Conv2D)             (None, 32, 32, 32)        896       \n",
      "                                                                 \n",
      " max_pooling2d (MaxPooling2  (None, 16, 16, 32)        0         \n",
      " D)                                                              \n",
      "                                                                 \n",
      " conv2d_1 (Conv2D)           (None, 16, 16, 32)        9248      \n",
      "                                                                 \n",
      " max_pooling2d_1 (MaxPoolin  (None, 8, 8, 32)          0         \n",
      " g2D)                                                            \n",
      "                                                                 \n",
      " flatten (Flatten)           (None, 2048)              0         \n",
      "                                                                 \n",
      " dense (Dense)               (None, 128)               262272    \n",
      "                                                                 \n",
      " dense_1 (Dense)             (None, 1)                 129       \n",
      "                                                                 \n",
      "=================================================================\n",
      "Total params: 272545 (1.04 MB)\n",
      "Trainable params: 272545 (1.04 MB)\n",
      "Non-trainable params: 0 (0.00 Byte)\n",
      "_________________________________________________________________\n"
     ]
    }
   ],
   "source": [
    "cnn.summary()"
   ]
  },
  {
   "cell_type": "code",
   "execution_count": 83,
   "id": "46d18b4f-7393-4e3a-a02b-08bcacf1db2b",
   "metadata": {},
   "outputs": [
    {
     "name": "stdout",
     "output_type": "stream",
     "text": [
      "WARNING:tensorflow:From C:\\Users\\hp\\anaconda3\\envs\\Prodigy\\lib\\site-packages\\keras\\src\\optimizers\\__init__.py:309: The name tf.train.Optimizer is deprecated. Please use tf.compat.v1.train.Optimizer instead.\n",
      "\n"
     ]
    }
   ],
   "source": [
    "cnn.compile(optimizer = 'adam', loss = 'hinge', metrics = ['accuracy'])"
   ]
  },
  {
   "cell_type": "code",
   "execution_count": 85,
   "id": "60166c8e-71f0-4aaa-a918-f57866e05a48",
   "metadata": {},
   "outputs": [
    {
     "name": "stdout",
     "output_type": "stream",
     "text": [
      "Epoch 1/15\n",
      "WARNING:tensorflow:From C:\\Users\\hp\\anaconda3\\envs\\Prodigy\\lib\\site-packages\\keras\\src\\utils\\tf_utils.py:492: The name tf.ragged.RaggedTensorValue is deprecated. Please use tf.compat.v1.ragged.RaggedTensorValue instead.\n",
      "\n",
      "WARNING:tensorflow:From C:\\Users\\hp\\anaconda3\\envs\\Prodigy\\lib\\site-packages\\keras\\src\\engine\\base_layer_utils.py:384: The name tf.executing_eagerly_outside_functions is deprecated. Please use tf.compat.v1.executing_eagerly_outside_functions instead.\n",
      "\n",
      "782/782 [==============================] - 171s 214ms/step - loss: 0.0059 - accuracy: 1.0000 - val_loss: 4.6828e-04 - val_accuracy: 1.0000\n",
      "Epoch 2/15\n",
      "782/782 [==============================] - 120s 153ms/step - loss: 2.0406e-04 - accuracy: 1.0000 - val_loss: 1.1656e-04 - val_accuracy: 1.0000\n",
      "Epoch 3/15\n",
      "782/782 [==============================] - 129s 165ms/step - loss: 6.9490e-05 - accuracy: 1.0000 - val_loss: 3.4103e-04 - val_accuracy: 1.0000\n",
      "Epoch 4/15\n",
      "782/782 [==============================] - 124s 158ms/step - loss: 1.1798e-04 - accuracy: 1.0000 - val_loss: 2.1771e-05 - val_accuracy: 1.0000\n",
      "Epoch 5/15\n",
      "782/782 [==============================] - 119s 152ms/step - loss: 6.6673e-06 - accuracy: 1.0000 - val_loss: 7.5625e-07 - val_accuracy: 1.0000\n",
      "Epoch 6/15\n",
      "782/782 [==============================] - 118s 151ms/step - loss: 2.2610e-04 - accuracy: 1.0000 - val_loss: 2.3490e-04 - val_accuracy: 1.0000\n",
      "Epoch 7/15\n",
      "782/782 [==============================] - 117s 150ms/step - loss: 1.2968e-04 - accuracy: 1.0000 - val_loss: 5.8287e-05 - val_accuracy: 1.0000\n",
      "Epoch 8/15\n",
      "782/782 [==============================] - 119s 152ms/step - loss: 2.8331e-05 - accuracy: 1.0000 - val_loss: 9.8008e-06 - val_accuracy: 1.0000\n",
      "Epoch 9/15\n",
      "782/782 [==============================] - 119s 152ms/step - loss: 3.9355e-06 - accuracy: 1.0000 - val_loss: 8.9288e-07 - val_accuracy: 1.0000\n",
      "Epoch 10/15\n",
      "782/782 [==============================] - 117s 149ms/step - loss: 4.6147e-06 - accuracy: 1.0000 - val_loss: 3.9219e-04 - val_accuracy: 1.0000\n",
      "Epoch 11/15\n",
      "782/782 [==============================] - 118s 151ms/step - loss: 3.9027e-04 - accuracy: 1.0000 - val_loss: 2.8264e-04 - val_accuracy: 1.0000\n",
      "Epoch 12/15\n",
      "782/782 [==============================] - 117s 149ms/step - loss: 2.0505e-04 - accuracy: 1.0000 - val_loss: 1.3942e-04 - val_accuracy: 1.0000\n",
      "Epoch 13/15\n",
      "782/782 [==============================] - 116s 149ms/step - loss: 9.4236e-05 - accuracy: 1.0000 - val_loss: 5.7469e-05 - val_accuracy: 1.0000\n",
      "Epoch 14/15\n",
      "782/782 [==============================] - 116s 148ms/step - loss: 3.4893e-05 - accuracy: 1.0000 - val_loss: 1.7873e-05 - val_accuracy: 1.0000\n",
      "Epoch 15/15\n",
      "782/782 [==============================] - 115s 147ms/step - loss: 9.3416e-06 - accuracy: 1.0000 - val_loss: 3.6772e-06 - val_accuracy: 1.0000\n"
     ]
    }
   ],
   "source": [
    "r=cnn.fit(x = training_set, validation_data = test_set, epochs = 15)"
   ]
  },
  {
   "cell_type": "code",
   "execution_count": 86,
   "id": "513da9a7-f666-497c-9462-b54d2685e1d7",
   "metadata": {},
   "outputs": [
    {
     "data": {
      "image/png": "[encoded data removed]",
      "text/plain": [
       "<Figure size 640x480 with 1 Axes>"
      ]
     },
     "metadata": {},
     "output_type": "display_data"
    },
    {
     "data": {
      "image/png": "[encoded data removed]",
      "text/plain": [
       "<Figure size 640x480 with 1 Axes>"
      ]
     },
     "metadata": {},
     "output_type": "display_data"
    }
   ],
   "source": [
    "import matplotlib.pyplot as plt\n",
    "plt.plot(r.history['loss'], label='train loss')\n",
    "plt.plot(r.history['val_loss'], label='val loss')\n",
    "plt.legend()\n",
    "plt.show()\n",
    "\n",
    "# plot the accuracy\n",
    "plt.plot(r.history['accuracy'], label='train acc')\n",
    "plt.plot(r.history['val_accuracy'], label='val acc')\n",
    "plt.legend()\n",
    "plt.show()"
   ]
  },
  {
   "cell_type": "code",
   "execution_count": 87,
   "id": "dc706e54-8f25-43b2-85bc-8309a40b2c04",
   "metadata": {},
   "outputs": [],
   "source": [
    "from tensorflow.keras.models import load_model\n",
    "\n",
    "cnn.save('./model_rcat_dog.h5')"
   ]
  },
  {
   "cell_type": "code",
   "execution_count": 91,
   "id": "2e588f40-c5da-4f36-8cf5-b5467f726bc5",
   "metadata": {},
   "outputs": [
    {
     "name": "stdout",
     "output_type": "stream",
     "text": [
      "1/1 [==============================] - 1s 734ms/step\n"
     ]
    }
   ],
   "source": [
    "from tensorflow.keras.preprocessing import image\n",
    "test_image = image.load_img('test/test1/1.jpg', target_size = (64,64))\n",
    "test_image = image.img_to_array(test_image)\n",
    "test_image=test_image/255\n",
    "test_image = np.expand_dims(test_image, axis = 0)\n",
    "result = cnn.predict(test_image)"
   ]
  },
  {
   "cell_type": "code",
   "execution_count": 92,
   "id": "ab919ab5-1aea-40c0-8131-1740dbf0706f",
   "metadata": {},
   "outputs": [
    {
     "name": "stdout",
     "output_type": "stream",
     "text": [
      "The image classified is cat\n"
     ]
    }
   ],
   "source": [
    "if result[0]<0:\n",
    "    print(\"The image classified is cat\")\n",
    "else:\n",
    "    print(\"The image classified is dog\")"
   ]
  },
  {
   "cell_type": "code",
   "execution_count": 103,
   "id": "0deda36e-f4cd-43b2-a541-f36e681b3b66",
   "metadata": {},
   "outputs": [
    {
     "data": {
      "image/png": "[encoded data removed]",
      "text/plain": [
       "<Figure size 640x480 with 1 Axes>"
      ]
     },
     "metadata": {},
     "output_type": "display_data"
    },
    {
     "name": "stdout",
     "output_type": "stream",
     "text": [
      "1/1 [==============================] - 0s 29ms/step\n",
      "Prediction: cat\n"
     ]
    }
   ],
   "source": [
    "import random\n",
    "import matplotlib.pyplot as plt\n",
    "\n",
    "# Load 10 random images from the test set\n",
    "random_test_samples = random.sample(test_set.filenames, 1)\n",
    "\n",
    "for filename in random_test_samples:\n",
    "    # Load and display the image\n",
    "    img_path = os.path.join(\"test\", filename)\n",
    "    img = image.load_img(img_path, target_size=(64, 64))\n",
    "    plt.imshow(img)\n",
    "    plt.show()\n",
    "\n",
    "    # Preprocess the image for prediction\n",
    "    test_image = image.load_img(img_path, target_size=(64, 64))\n",
    "    test_image = image.img_to_array(test_image)\n",
    "    test_image = np.expand_dims(test_image, axis=0)\n",
    "    test_image = test_image / 255\n",
    "\n",
    "    # Predict the class\n",
    "    result = cnn.predict(test_image)\n",
    "    if result[0][0] > 0.5:\n",
    "        prediction = 'dog'\n",
    "    else:\n",
    "        prediction = 'cat'\n",
    "    \n",
    "    print(f\"Prediction: {prediction}\")\n"
   ]
  },
  {
   "cell_type": "code",
   "execution_count": null,
   "id": "5e8d3cc2-55cc-461a-aa01-a39a7b23f646",
   "metadata": {},
   "outputs": [],
   "source": []
  }
 ],
 "metadata": {
  "kernelspec": {
   "display_name": "Python 3 (ipykernel)",
   "language": "python",
   "name": "python3"
  },
  "language_info": {
   "codemirror_mode": {
    "name": "ipython",
    "version": 3
   },
   "file_extension": ".py",
   "mimetype": "text/x-python",
   "name": "python",
   "nbconvert_exporter": "python",
   "pygments_lexer": "ipython3",
   "version": "3.10.13"
  }
 },
 "nbformat": 4,
 "nbformat_minor": 5
}
